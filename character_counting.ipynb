{
  "nbformat": 4,
  "nbformat_minor": 0,
  "metadata": {
    "colab": {
      "name": "character counting.ipynb",
      "provenance": [],
      "collapsed_sections": [],
      "authorship_tag": "ABX9TyNJyS/VyUtFiDKxYTwrDPTr",
      "include_colab_link": true
    },
    "kernelspec": {
      "name": "python3",
      "display_name": "Python 3"
    },
    "language_info": {
      "name": "python"
    }
  },
  "cells": [
    {
      "cell_type": "markdown",
      "metadata": {
        "id": "view-in-github",
        "colab_type": "text"
      },
      "source": [
        "<a href=\"https://colab.research.google.com/github/akif-onder/akif-onder/blob/main/character_counting.ipynb\" target=\"_parent\"><img src=\"https://colab.research.google.com/assets/colab-badge.svg\" alt=\"Open In Colab\"/></a>"
      ]
    },
    {
      "cell_type": "markdown",
      "source": [
        "Given a string containing just the characters '(', ')', '{', '}', '[' and ']',\n",
        "determine if the input string is valid.\n",
        "An input string is valid if:\n",
        "Open brackets must be closed by the same type of brackets.\n",
        "Open brackets must be closed in the correct order.\n",
        "Note that an empty string is also considered valid.\n",
        "Example 1:\n",
        "Input: \"()\"\n",
        "Output: True\n",
        "Example 2:\n",
        "Input: \"()[]{}\"\n",
        "Output: True"
      ],
      "metadata": {
        "id": "Fbud3Y4shC0e"
      }
    },
    {
      "cell_type": "code",
      "execution_count": null,
      "metadata": {
        "colab": {
          "base_uri": "https://localhost:8080/"
        },
        "id": "21vUM2Log32n",
        "outputId": "8e0d06b1-0f9c-4aed-d198-bdb08f68109d"
      },
      "outputs": [
        {
          "output_type": "stream",
          "name": "stdout",
          "text": [
            "Enter brackets: ((()))\n",
            "True\n"
          ]
        }
      ],
      "source": [
        "brackets = input(\"Enter brackets: \")\n",
        "\n",
        "if len(brackets) % 2 != 0:\n",
        "  print(False)\n",
        "else:\n",
        "  while len(brackets) > 0:\n",
        "    if (brackets[0] == \"(\" and brackets[-1] == \")\") or\\\n",
        "      (brackets[0] == \"{\" and brackets[-1] == \"}\") or\\\n",
        "      (brackets[0] == \"[\" and brackets[-1] == \"]\"):\n",
        "      brackets = brackets.strip(brackets[0])\n",
        "      brackets = brackets.strip(brackets[-1])\n",
        "      if len(brackets) == 0:\n",
        "        print(True)\n",
        "    else:\n",
        "      print(False)\n",
        "      break"
      ]
    },
    {
      "cell_type": "markdown",
      "source": [
        "Problem :\n",
        "Given a collection of distinct integers, return all possible permutations.\n",
        "Example:\n",
        "Input: [1,2,3]\n",
        "Output:\n",
        "[\n",
        "  [1,2,3],\n",
        "  [1,3,2],\n",
        "  [2,1,3],\n",
        "  [2,3,1],\n",
        "  [3,1,2],\n",
        "  [3,2,1]\n",
        "]"
      ],
      "metadata": {
        "id": "KfgAnyX3obsr"
      }
    },
    {
      "cell_type": "code",
      "source": [
        "list1 = [1, 2, 3]\n",
        "\n",
        "\n"
      ],
      "metadata": {
        "colab": {
          "base_uri": "https://localhost:8080/"
        },
        "id": "dHbLXvICiQPH",
        "outputId": "66a2058c-47a7-49ba-b9e3-192dffc93e14"
      },
      "execution_count": null,
      "outputs": [
        {
          "output_type": "stream",
          "name": "stdout",
          "text": [
            "[1, 2, 3]\n",
            "[1, 3, 3]\n",
            "[2, 2, 3]\n",
            "[2, 3, 3]\n",
            "[3, 2, 3]\n",
            "[3, 3, 3]\n"
          ]
        }
      ]
    },
    {
      "cell_type": "markdown",
      "source": [
        "Count the number of each letter in a sentence.\n",
        "\n",
        "The department you work for undertook a project construction that makes word / text analysis. You are asked to calculate the number of letters or any chars in the sentences entered under this project.\n",
        "Write a Python program that;\n",
        "takes a sentence from the user,\n",
        "counts the number of each letter/chars of the sentence,\n",
        "collects the letters/chars as a key and the counted numbers as a value in a dictionary.\n"
      ],
      "metadata": {
        "id": "5nuX4Hzr0Q_S"
      }
    },
    {
      "cell_type": "code",
      "source": [
        "text = input(\"Enter the text: \")\n",
        "\n",
        "chars = {}\n",
        "for i in text:\n",
        "  if i not in chars:\n",
        "    chars[i] = 1\n",
        "  else:\n",
        "    chars[i] += 1\n",
        "print(chars)\n",
        "\n",
        "\n"
      ],
      "metadata": {
        "colab": {
          "base_uri": "https://localhost:8080/"
        },
        "id": "C_N6s8SZ0VT8",
        "outputId": "e014598f-415d-46f0-9c25-f6ca450832db"
      },
      "execution_count": null,
      "outputs": [
        {
          "output_type": "stream",
          "name": "stdout",
          "text": [
            "Enter the text: Ankaradan abim geldi... evde bir baytram ahabuıhabıjk   çç wef ,,, \n",
            "{'A': 1, 'n': 2, 'k': 2, 'a': 9, 'r': 3, 'd': 3, ' ': 12, 'b': 5, 'i': 3, 'm': 2, 'g': 1, 'e': 4, 'l': 1, '.': 3, 'v': 1, 'y': 1, 't': 1, 'h': 2, 'u': 1, 'ı': 2, 'j': 1, 'ç': 2, 'w': 1, 'f': 1, ',': 3}\n"
          ]
        }
      ]
    },
    {
      "cell_type": "markdown",
      "source": [
        ""
      ],
      "metadata": {
        "id": "rnGj3c8phBsv"
      }
    },
    {
      "cell_type": "code",
      "source": [
        ""
      ],
      "metadata": {
        "id": "raKhb5m922T9"
      },
      "execution_count": null,
      "outputs": []
    }
  ]
}
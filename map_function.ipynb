{
  "nbformat": 4,
  "nbformat_minor": 0,
  "metadata": {
    "colab": {
      "name": "map function.ipynb",
      "provenance": [],
      "collapsed_sections": [],
      "authorship_tag": "ABX9TyMpgR1KgouZ+EgUK08msbqU",
      "include_colab_link": true
    },
    "kernelspec": {
      "name": "python3",
      "display_name": "Python 3"
    },
    "language_info": {
      "name": "python"
    }
  },
  "cells": [
    {
      "cell_type": "markdown",
      "metadata": {
        "id": "view-in-github",
        "colab_type": "text"
      },
      "source": [
        "<a href=\"https://colab.research.google.com/github/akif-onder/akif-onder/blob/main/map_function.ipynb\" target=\"_parent\"><img src=\"https://colab.research.google.com/assets/colab-badge.svg\" alt=\"Open In Colab\"/></a>"
      ]
    },
    {
      "cell_type": "markdown",
      "source": [
        "EX.1\n",
        "Write a map function that adds plus 5 to each item in the list."
      ],
      "metadata": {
        "id": "eNY4VO22fAFE"
      }
    },
    {
      "cell_type": "code",
      "execution_count": null,
      "metadata": {
        "colab": {
          "base_uri": "https://localhost:8080/"
        },
        "id": "KKEXv-w0e7pt",
        "outputId": "4a75491e-e733-44fb-8502-028b67af50a7"
      },
      "outputs": [
        {
          "output_type": "stream",
          "name": "stdout",
          "text": [
            "[15, 25, 35, 45, 55, 65]\n"
          ]
        }
      ],
      "source": [
        "lst1=[10, 20, 30, 40, 50, 60]\n",
        "\n",
        "lst2= list(map(lambda x : x+ 5, lst1)) #map() function takes two arguments,first the function, then comma and second the name of the list to be used for the mapping function.\n",
        "\n",
        "print(lst2)"
      ]
    },
    {
      "cell_type": "markdown",
      "source": [
        "EX.2\n",
        "\n",
        "Write a map function that returns the squares of the items in the list."
      ],
      "metadata": {
        "id": "vyxJSNxUh-p1"
      }
    },
    {
      "cell_type": "code",
      "source": [
        "lst1 = [10, 20, 30, 40, 50, 60]\n",
        "lst2 = list(map(lambda x: x**2, lst1))\n",
        "print(lst2)"
      ],
      "metadata": {
        "colab": {
          "base_uri": "https://localhost:8080/"
        },
        "id": "pUSxz-ZXe8eb",
        "outputId": "c3c65bc0-e8bb-4483-b8c5-7a5b4f3e4cea"
      },
      "execution_count": null,
      "outputs": [
        {
          "output_type": "stream",
          "name": "stdout",
          "text": [
            "[100, 400, 900, 1600, 2500, 3600]\n"
          ]
        }
      ]
    },
    {
      "cell_type": "markdown",
      "source": [
        "EX.3\n",
        "\n",
        "Write a map function that adds \"Hello, \" in front of each item in the list."
      ],
      "metadata": {
        "id": "4zGj_spxiUea"
      }
    },
    {
      "cell_type": "code",
      "source": [
        "lst1=[\"Jane\", \"Lee\", \"Will\", \"Brie\"]\n",
        "\n",
        "lst2=list(map(lambda x: \"Hello, \" + x, lst1))\n",
        "\n",
        "print(lst2)"
      ],
      "metadata": {
        "colab": {
          "base_uri": "https://localhost:8080/"
        },
        "id": "T7JqWMMie9IS",
        "outputId": "f266b8eb-49a6-4408-a2ee-a8515c9efec6"
      },
      "execution_count": null,
      "outputs": [
        {
          "output_type": "stream",
          "name": "stdout",
          "text": [
            "['Hello, Jane', 'Hello, Lee', 'Hello, Will', 'Hello, Brie']\n"
          ]
        }
      ]
    },
    {
      "cell_type": "markdown",
      "source": [
        "EX.4\n",
        "\n",
        "Using map() function and len() function create a list that's consisted of lengths of each element in the first list."
      ],
      "metadata": {
        "id": "E_8rMQdcjLhx"
      }
    },
    {
      "cell_type": "code",
      "source": [
        "\n",
        "lst1=[\"Alpine\", \"Avalanche\", \"Powder\", \"Snowflake\", \"Summit\"]\n",
        "\n",
        "lst2= list(map(lambda x: len(x), lst1))\n",
        "\n",
        "print(lst2)"
      ],
      "metadata": {
        "colab": {
          "base_uri": "https://localhost:8080/"
        },
        "id": "DPpYbMtVe9LR",
        "outputId": "a83a3d68-5925-4321-f446-db5bc0f29086"
      },
      "execution_count": null,
      "outputs": [
        {
          "output_type": "stream",
          "name": "stdout",
          "text": [
            "[6, 9, 6, 9, 6]\n"
          ]
        }
      ]
    },
    {
      "cell_type": "markdown",
      "source": [
        "EX.5\n",
        "\n",
        "Using map() function and lambda add each elements of two lists together. Use a lambda with two arguments."
      ],
      "metadata": {
        "id": "UqGSazIHjojF"
      }
    },
    {
      "cell_type": "code",
      "source": [
        "lst1=[100, 200, 300, 400, 500]\n",
        "lst2=[1,10,100,1000,10000]\n",
        "\n",
        "\n",
        "lst3=list(map(lambda x, y: x + y, lst1, lst2))\n",
        "\n",
        "\n",
        "print(lst3)"
      ],
      "metadata": {
        "colab": {
          "base_uri": "https://localhost:8080/"
        },
        "id": "BsHMKKJTe9Pj",
        "outputId": "d51e38f6-a9e6-46fb-d87d-c4bcbfa1ad04"
      },
      "execution_count": null,
      "outputs": [
        {
          "output_type": "stream",
          "name": "stdout",
          "text": [
            "[101, 210, 400, 1400, 10500]\n"
          ]
        }
      ]
    },
    {
      "cell_type": "markdown",
      "source": [
        "EX.6\n",
        "\n",
        "Using map() function and lambda and count() function create a list which consists of the number of occurence of letter: a."
      ],
      "metadata": {
        "id": "530QxkgTkNij"
      }
    },
    {
      "cell_type": "code",
      "source": [
        "lst1=[\"Alaska\", \"Alabama\", \"Arizona\", \"Arkansas\", \"Colorado\", \"Montana\", \"Nevada\"]\n",
        "#Type your answer here.\n",
        "\n",
        "lst2=list(map(lambda x: x.count(\"a\"), lst1))\n",
        "\n",
        "\n",
        "print(lst2)"
      ],
      "metadata": {
        "colab": {
          "base_uri": "https://localhost:8080/"
        },
        "id": "WhoL-xggkRh7",
        "outputId": "6545bd58-a278-4ff8-f08a-16cfd5dc2b9c"
      },
      "execution_count": null,
      "outputs": [
        {
          "output_type": "stream",
          "name": "stdout",
          "text": [
            "[2, 3, 1, 2, 1, 2, 2]\n"
          ]
        }
      ]
    },
    {
      "cell_type": "markdown",
      "source": [
        "EX.7\n",
        "\n",
        "Using map() function and lambda and count() function create a list consisted of the number of occurence of both letters: A and a."
      ],
      "metadata": {
        "id": "Bg3PTIDbm2W7"
      }
    },
    {
      "cell_type": "code",
      "source": [
        "lst1=[\"Alaska\", \"Alabama\", \"Arizona\", \"Arkansas\", \"Colorado\", \"Montana\", \"Nevada\"]\n",
        "#Type your answer here.\n",
        "\n",
        "lst2=list(map(lambda x: x.lower().count(\"a\"),lst1))\n",
        "\n",
        "\n",
        "print(lst2)"
      ],
      "metadata": {
        "colab": {
          "base_uri": "https://localhost:8080/"
        },
        "id": "PrhDI-eJm0dG",
        "outputId": "3c63a829-1133-4728-d0b1-0d9a2e21e196"
      },
      "execution_count": null,
      "outputs": [
        {
          "output_type": "stream",
          "name": "stdout",
          "text": [
            "[3, 4, 2, 3, 1, 2, 2]\n"
          ]
        }
      ]
    },
    {
      "cell_type": "markdown",
      "source": [
        "EX.8\n",
        "\n",
        "\n",
        "Using map() function, first return a new list with absolute values of existing list. Then for ans_1, find the total sum of the new list's elements."
      ],
      "metadata": {
        "id": "Q81WVaEMm0Om"
      }
    },
    {
      "cell_type": "code",
      "source": [
        "\n",
        "lst=[99.3890,-3.5, 5, -0.7123, -9, -0.003]\n",
        "new_lst=list(map(lambda x: abs(x), lst))\n",
        "\n",
        "ans_1=sum(new_lst)\n",
        "\n",
        "print(ans_1)"
      ],
      "metadata": {
        "colab": {
          "base_uri": "https://localhost:8080/"
        },
        "id": "DGFUFBV6n20h",
        "outputId": "7612196b-3fe2-48df-f863-12124b9b9192"
      },
      "execution_count": null,
      "outputs": [
        {
          "output_type": "stream",
          "name": "stdout",
          "text": [
            "117.6043\n"
          ]
        }
      ]
    },
    {
      "cell_type": "markdown",
      "source": [
        ""
      ],
      "metadata": {
        "id": "54vtGBh7pTjL"
      }
    }
  ]
}